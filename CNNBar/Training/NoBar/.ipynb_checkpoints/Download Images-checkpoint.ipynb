{
 "cells": [
  {
   "cell_type": "code",
   "execution_count": null,
   "metadata": {
    "collapsed": true
   },
   "outputs": [],
   "source": [
    "import csv\n",
    "filename = \"NoBar.csv\"\n",
    "fields = []\n",
    "with open('urls.csv', 'a') as furl:\n",
    "    \n",
    "    with open(filename, 'r') as csvfile:\n",
    "        # creating a csv reader object\n",
    "        csvreader = csv.reader(csvfile)\n",
    "     \n",
    "        # extracting field names through first row\n",
    "        fields =csvreader.next()\n",
    "        for row in csvreader:\n",
    "            furl.write('http://skyserver.sdss.org/dr14/SkyserverWS/ImgCutout/getjpeg?ra=')\n",
    "            ra = row[0]\n",
    "            furl.write(ra)\n",
    "            furl.write('&dec=')\n",
    "            dec = row[1]\n",
    "            furl.write(dec)\n",
    "            furl.write('&scale=0.3&width=64&height=64\\n')"
   ]
  },
  {
   "cell_type": "code",
   "execution_count": null,
   "metadata": {
    "collapsed": true
   },
   "outputs": [],
   "source": [
    "import urllib\n",
    "\n",
    "# open file to read\n",
    "with open(\"urls.csv\", 'r') as csvfile:\n",
    "    # iterate on all lines\n",
    "    i = 1\n",
    "    for line in csvfile:\n",
    "        urllib.urlretrieve(line, \"img_\" + str(i) + \".jpeg\")\n",
    "        i += 1"
   ]
  },
  {
   "cell_type": "code",
   "execution_count": null,
   "metadata": {
    "collapsed": true
   },
   "outputs": [],
   "source": []
  }
 ],
 "metadata": {
  "kernelspec": {
   "display_name": "Python 2",
   "language": "python",
   "name": "python2"
  },
  "language_info": {
   "codemirror_mode": {
    "name": "ipython",
    "version": 2
   },
   "file_extension": ".py",
   "mimetype": "text/x-python",
   "name": "python",
   "nbconvert_exporter": "python",
   "pygments_lexer": "ipython2",
   "version": "2.7.14"
  }
 },
 "nbformat": 4,
 "nbformat_minor": 2
}
